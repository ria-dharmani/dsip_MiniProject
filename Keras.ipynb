{
 "cells": [
  {
   "cell_type": "code",
   "execution_count": 7,
   "metadata": {},
   "outputs": [
    {
     "data": {
      "text/plain": [
       "((546, 38), (137, 38))"
      ]
     },
     "execution_count": 7,
     "metadata": {},
     "output_type": "execute_result"
    }
   ],
   "source": [
    "import numpy as np\n",
    "import pandas as pd\n",
    "from sklearn.model_selection import train_test_split\n",
    "\n",
    "df = pd.read_csv('./training_solutions_rev2.csv')\n",
    "\n",
    "df_train, df_test = train_test_split(df, test_size=.2)\n",
    "df_train.shape, df_test.shape"
   ]
  },
  {
   "cell_type": "code",
   "execution_count": 8,
   "metadata": {},
   "outputs": [
    {
     "name": "stderr",
     "output_type": "stream",
     "text": [
      "100%|██████████| 546/546 [00:06<00:00, 84.85it/s] \n",
      "100%|██████████| 137/137 [00:01<00:00, 116.31it/s]\n"
     ]
    }
   ],
   "source": [
    "from skimage.transform import resize\n",
    "from tqdm import tqdm\n",
    "import matplotlib.pyplot as plt\n",
    "%matplotlib inline\n",
    "          \n",
    "\n",
    "ORIG_SHAPE = (424,424)\n",
    "CROP_SIZE = (256,256)\n",
    "IMG_SHAPE = (64,64)\n",
    "\n",
    "def get_image(path, x1,y1, shape, crop_size):\n",
    "    x = plt.imread(path)\n",
    "    x = x[x1:x1+crop_size[0], y1:y1+crop_size[1]]\n",
    "    x = resize(x, shape)\n",
    "    x = x/255.\n",
    "    return x\n",
    "\n",
    "def get_all_images(dataframe, shape=IMG_SHAPE, crop_size=CROP_SIZE):\n",
    "    x1 = (ORIG_SHAPE[0]-CROP_SIZE[0])//2\n",
    "    y1 = (ORIG_SHAPE[1]-CROP_SIZE[1])//2\n",
    "   \n",
    "    sel = dataframe.values\n",
    "    ids = sel[:,0].astype(int).astype(str)\n",
    "    y_batch = sel[:,1:]\n",
    "    x_batch = []\n",
    "    for i in tqdm(ids):\n",
    "        x = get_image('./images_training_rev2/'+i+'.jpg', x1,y1, shape=shape, crop_size=crop_size)\n",
    "        x_batch.append(x)\n",
    "    x_batch = np.array(x_batch)\n",
    "    return x_batch, y_batch\n",
    "\n",
    "X_train, y_train = get_all_images(df_train)\n",
    "X_test, y_test = get_all_images(df_test)"
   ]
  },
  {
   "cell_type": "code",
   "execution_count": 10,
   "metadata": {},
   "outputs": [
    {
     "name": "stderr",
     "output_type": "stream",
     "text": [
      "Using TensorFlow backend.\n"
     ]
    },
    {
     "name": "stdout",
     "output_type": "stream",
     "text": [
      "Model: \"sequential_1\"\n",
      "_________________________________________________________________\n",
      "Layer (type)                 Output Shape              Param #   \n",
      "=================================================================\n",
      "conv2d_1 (Conv2D)            (None, 62, 62, 512)       14336     \n",
      "_________________________________________________________________\n",
      "conv2d_2 (Conv2D)            (None, 60, 60, 256)       1179904   \n",
      "_________________________________________________________________\n",
      "activation_1 (Activation)    (None, 60, 60, 256)       0         \n",
      "_________________________________________________________________\n",
      "max_pooling2d_1 (MaxPooling2 (None, 30, 30, 256)       0         \n",
      "_________________________________________________________________\n",
      "conv2d_3 (Conv2D)            (None, 28, 28, 256)       590080    \n",
      "_________________________________________________________________\n",
      "conv2d_4 (Conv2D)            (None, 26, 26, 128)       295040    \n",
      "_________________________________________________________________\n",
      "activation_2 (Activation)    (None, 26, 26, 128)       0         \n",
      "_________________________________________________________________\n",
      "max_pooling2d_2 (MaxPooling2 (None, 13, 13, 128)       0         \n",
      "_________________________________________________________________\n",
      "conv2d_5 (Conv2D)            (None, 11, 11, 128)       147584    \n",
      "_________________________________________________________________\n",
      "conv2d_6 (Conv2D)            (None, 9, 9, 128)         147584    \n",
      "_________________________________________________________________\n",
      "activation_3 (Activation)    (None, 9, 9, 128)         0         \n",
      "_________________________________________________________________\n",
      "global_max_pooling2d_1 (Glob (None, 128)               0         \n",
      "_________________________________________________________________\n",
      "dropout_1 (Dropout)          (None, 128)               0         \n",
      "_________________________________________________________________\n",
      "dense_1 (Dense)              (None, 128)               16512     \n",
      "_________________________________________________________________\n",
      "activation_4 (Activation)    (None, 128)               0         \n",
      "_________________________________________________________________\n",
      "dropout_2 (Dropout)          (None, 128)               0         \n",
      "_________________________________________________________________\n",
      "dense_2 (Dense)              (None, 128)               16512     \n",
      "_________________________________________________________________\n",
      "activation_5 (Activation)    (None, 128)               0         \n",
      "_________________________________________________________________\n",
      "dropout_3 (Dropout)          (None, 128)               0         \n",
      "_________________________________________________________________\n",
      "dense_3 (Dense)              (None, 128)               16512     \n",
      "_________________________________________________________________\n",
      "activation_6 (Activation)    (None, 128)               0         \n",
      "_________________________________________________________________\n",
      "dropout_4 (Dropout)          (None, 128)               0         \n",
      "_________________________________________________________________\n",
      "dense_4 (Dense)              (None, 37)                4773      \n",
      "_________________________________________________________________\n",
      "activation_7 (Activation)    (None, 37)                0         \n",
      "=================================================================\n",
      "Total params: 2,428,837\n",
      "Trainable params: 2,428,837\n",
      "Non-trainable params: 0\n",
      "_________________________________________________________________\n"
     ]
    }
   ],
   "source": [
    "from keras.models import Sequential\n",
    "from keras.layers import Conv2D, MaxPooling2D\n",
    "from keras.layers import Activation, Dropout, Flatten, Dense, BatchNormalization, GlobalMaxPooling2D\n",
    "from keras import backend as K\n",
    "\n",
    "def root_mean_squared_error(y_true, y_pred):\n",
    "        return K.sqrt(K.mean(K.square(y_pred - y_true))) \n",
    "\n",
    "model = Sequential()\n",
    "model.add(Conv2D(512, (3, 3), input_shape=(IMG_SHAPE[0], IMG_SHAPE[1], 3)))\n",
    "model.add(Conv2D(256, (3, 3)))\n",
    "#model.add(BatchNormalization())\n",
    "model.add(Activation('relu'))\n",
    "model.add(MaxPooling2D(pool_size=(2, 2)))\n",
    "\n",
    "model.add(Conv2D(256, (3, 3)))\n",
    "model.add(Conv2D(128, (3, 3)))\n",
    "#model.add(BatchNormalization())\n",
    "model.add(Activation('relu'))\n",
    "model.add(MaxPooling2D(pool_size=(2, 2)))\n",
    "\n",
    "model.add(Conv2D(128, (3, 3)))\n",
    "model.add(Conv2D(128, (3, 3)))\n",
    "#model.add(BatchNormalization())\n",
    "model.add(Activation('relu'))\n",
    "model.add(GlobalMaxPooling2D())\n",
    "\n",
    "\n",
    "model.add(Dropout(0.25))\n",
    "model.add(Dense(128))\n",
    "model.add(Activation('relu'))\n",
    "model.add(Dropout(0.25))\n",
    "model.add(Dense(128))\n",
    "model.add(Activation('relu'))\n",
    "model.add(Dropout(0.25))\n",
    "model.add(Dense(128))\n",
    "model.add(Activation('relu'))\n",
    "model.add(Dropout(0.25))\n",
    "model.add(Dense(37))\n",
    "model.add(Activation('sigmoid'))\n",
    "\n",
    "model.compile(loss='binary_crossentropy', optimizer='adamax', metrics=[root_mean_squared_error])\n",
    "model.summary()"
   ]
  },
  {
   "cell_type": "code",
   "execution_count": 11,
   "metadata": {},
   "outputs": [
    {
     "name": "stdout",
     "output_type": "stream",
     "text": [
      "Train on 546 samples, validate on 137 samples\n",
      "Epoch 1/30\n",
      "546/546 [==============================] - ETA: 3:40 - loss: 0.6931 - root_mean_squared_error: 0.435 - ETA: 2:41 - loss: 0.6914 - root_mean_squared_error: 0.432 - ETA: 2:21 - loss: 0.6741 - root_mean_squared_error: 0.423 - ETA: 2:05 - loss: 0.6610 - root_mean_squared_error: 0.413 - ETA: 1:52 - loss: 0.6466 - root_mean_squared_error: 0.404 - ETA: 1:41 - loss: 0.6348 - root_mean_squared_error: 0.397 - ETA: 1:30 - loss: 0.6198 - root_mean_squared_error: 0.389 - ETA: 1:21 - loss: 0.6103 - root_mean_squared_error: 0.380 - ETA: 1:11 - loss: 0.5974 - root_mean_squared_error: 0.372 - ETA: 1:02 - loss: 0.5847 - root_mean_squared_error: 0.365 - ETA: 53s - loss: 0.5731 - root_mean_squared_error: 0.359 - ETA: 44s - loss: 0.5625 - root_mean_squared_error: 0.35 - ETA: 35s - loss: 0.5528 - root_mean_squared_error: 0.34 - ETA: 26s - loss: 0.5425 - root_mean_squared_error: 0.33 - ETA: 18s - loss: 0.5333 - root_mean_squared_error: 0.33 - ETA: 9s - loss: 0.5253 - root_mean_squared_error: 0.3271 - ETA: 0s - loss: 0.5174 - root_mean_squared_error: 0.322 - 166s 304ms/step - loss: 0.5168 - root_mean_squared_error: 0.3163 - val_loss: 0.3369 - val_root_mean_squared_error: 0.1807\n",
      "Epoch 2/30\n",
      "546/546 [==============================] - ETA: 2:13 - loss: 0.4179 - root_mean_squared_error: 0.222 - ETA: 2:06 - loss: 0.4057 - root_mean_squared_error: 0.224 - ETA: 1:58 - loss: 0.3990 - root_mean_squared_error: 0.225 - ETA: 1:50 - loss: 0.3998 - root_mean_squared_error: 0.227 - ETA: 1:42 - loss: 0.3995 - root_mean_squared_error: 0.230 - ETA: 1:34 - loss: 0.3895 - root_mean_squared_error: 0.225 - ETA: 1:25 - loss: 0.3824 - root_mean_squared_error: 0.220 - ETA: 1:17 - loss: 0.3774 - root_mean_squared_error: 0.217 - ETA: 1:09 - loss: 0.3775 - root_mean_squared_error: 0.216 - ETA: 1:00 - loss: 0.3730 - root_mean_squared_error: 0.215 - ETA: 52s - loss: 0.3694 - root_mean_squared_error: 0.212 - ETA: 43s - loss: 0.3692 - root_mean_squared_error: 0.21 - ETA: 34s - loss: 0.3668 - root_mean_squared_error: 0.21 - ETA: 26s - loss: 0.3661 - root_mean_squared_error: 0.21 - ETA: 17s - loss: 0.3644 - root_mean_squared_error: 0.20 - ETA: 9s - loss: 0.3613 - root_mean_squared_error: 0.2079 - ETA: 0s - loss: 0.3618 - root_mean_squared_error: 0.207 - 163s 299ms/step - loss: 0.3618 - root_mean_squared_error: 0.2085 - val_loss: 0.3092 - val_root_mean_squared_error: 0.1671\n",
      "Epoch 3/30\n",
      "546/546 [==============================] - ETA: 2:20 - loss: 0.3420 - root_mean_squared_error: 0.199 - ETA: 2:16 - loss: 0.3278 - root_mean_squared_error: 0.196 - ETA: 2:05 - loss: 0.3280 - root_mean_squared_error: 0.193 - ETA: 1:56 - loss: 0.3281 - root_mean_squared_error: 0.192 - ETA: 1:47 - loss: 0.3287 - root_mean_squared_error: 0.192 - ETA: 1:37 - loss: 0.3317 - root_mean_squared_error: 0.192 - ETA: 1:28 - loss: 0.3286 - root_mean_squared_error: 0.189 - ETA: 1:19 - loss: 0.3290 - root_mean_squared_error: 0.188 - ETA: 1:10 - loss: 0.3282 - root_mean_squared_error: 0.188 - ETA: 1:02 - loss: 0.3272 - root_mean_squared_error: 0.187 - ETA: 53s - loss: 0.3276 - root_mean_squared_error: 0.188 - ETA: 44s - loss: 0.3291 - root_mean_squared_error: 0.18 - ETA: 35s - loss: 0.3291 - root_mean_squared_error: 0.18 - ETA: 26s - loss: 0.3301 - root_mean_squared_error: 0.18 - ETA: 18s - loss: 0.3295 - root_mean_squared_error: 0.18 - ETA: 9s - loss: 0.3307 - root_mean_squared_error: 0.1888 - ETA: 0s - loss: 0.3300 - root_mean_squared_error: 0.188 - 166s 305ms/step - loss: 0.3298 - root_mean_squared_error: 0.1855 - val_loss: 0.3078 - val_root_mean_squared_error: 0.1664\n",
      "Epoch 4/30\n",
      "546/546 [==============================] - ETA: 2:18 - loss: 0.3288 - root_mean_squared_error: 0.169 - ETA: 2:10 - loss: 0.3214 - root_mean_squared_error: 0.172 - ETA: 2:01 - loss: 0.3279 - root_mean_squared_error: 0.176 - ETA: 1:53 - loss: 0.3297 - root_mean_squared_error: 0.180 - ETA: 1:45 - loss: 0.3263 - root_mean_squared_error: 0.181 - ETA: 1:36 - loss: 0.3253 - root_mean_squared_error: 0.182 - ETA: 1:27 - loss: 0.3251 - root_mean_squared_error: 0.183 - ETA: 1:19 - loss: 0.3248 - root_mean_squared_error: 0.184 - ETA: 1:10 - loss: 0.3234 - root_mean_squared_error: 0.182 - ETA: 1:01 - loss: 0.3246 - root_mean_squared_error: 0.183 - ETA: 53s - loss: 0.3240 - root_mean_squared_error: 0.183 - ETA: 44s - loss: 0.3213 - root_mean_squared_error: 0.18 - ETA: 35s - loss: 0.3214 - root_mean_squared_error: 0.18 - ETA: 26s - loss: 0.3204 - root_mean_squared_error: 0.18 - ETA: 18s - loss: 0.3212 - root_mean_squared_error: 0.18 - ETA: 9s - loss: 0.3215 - root_mean_squared_error: 0.1817 - ETA: 0s - loss: 0.3208 - root_mean_squared_error: 0.181 - 167s 305ms/step - loss: 0.3210 - root_mean_squared_error: 0.1839 - val_loss: 0.3080 - val_root_mean_squared_error: 0.1667\n",
      "Epoch 5/30\n",
      "546/546 [==============================] - ETA: 2:28 - loss: 0.3132 - root_mean_squared_error: 0.168 - ETA: 2:17 - loss: 0.3185 - root_mean_squared_error: 0.175 - ETA: 2:08 - loss: 0.3183 - root_mean_squared_error: 0.176 - ETA: 1:58 - loss: 0.3179 - root_mean_squared_error: 0.176 - ETA: 1:49 - loss: 0.3172 - root_mean_squared_error: 0.176 - ETA: 1:39 - loss: 0.3187 - root_mean_squared_error: 0.178 - ETA: 1:30 - loss: 0.3184 - root_mean_squared_error: 0.179 - ETA: 1:21 - loss: 0.3205 - root_mean_squared_error: 0.178 - ETA: 1:12 - loss: 0.3206 - root_mean_squared_error: 0.178 - ETA: 1:03 - loss: 0.3195 - root_mean_squared_error: 0.177 - ETA: 54s - loss: 0.3188 - root_mean_squared_error: 0.178 - ETA: 45s - loss: 0.3179 - root_mean_squared_error: 0.17 - ETA: 36s - loss: 0.3155 - root_mean_squared_error: 0.17 - ETA: 27s - loss: 0.3150 - root_mean_squared_error: 0.17 - ETA: 18s - loss: 0.3144 - root_mean_squared_error: 0.17 - ETA: 9s - loss: 0.3157 - root_mean_squared_error: 0.1773 - ETA: 0s - loss: 0.3171 - root_mean_squared_error: 0.178 - 168s 307ms/step - loss: 0.3171 - root_mean_squared_error: 0.1799 - val_loss: 0.3129 - val_root_mean_squared_error: 0.1696\n",
      "Epoch 6/30\n",
      "546/546 [==============================] - ETA: 2:17 - loss: 0.3303 - root_mean_squared_error: 0.172 - ETA: 2:10 - loss: 0.3237 - root_mean_squared_error: 0.177 - ETA: 2:02 - loss: 0.3237 - root_mean_squared_error: 0.176 - ETA: 1:54 - loss: 0.3240 - root_mean_squared_error: 0.177 - ETA: 1:46 - loss: 0.3284 - root_mean_squared_error: 0.183 - ETA: 1:37 - loss: 0.3269 - root_mean_squared_error: 0.182 - ETA: 1:28 - loss: 0.3230 - root_mean_squared_error: 0.182 - ETA: 1:19 - loss: 0.3216 - root_mean_squared_error: 0.180 - ETA: 1:10 - loss: 0.3213 - root_mean_squared_error: 0.180 - ETA: 1:02 - loss: 0.3209 - root_mean_squared_error: 0.179 - ETA: 54s - loss: 0.3211 - root_mean_squared_error: 0.179 - ETA: 46s - loss: 0.3205 - root_mean_squared_error: 0.18 - ETA: 37s - loss: 0.3193 - root_mean_squared_error: 0.17 - ETA: 28s - loss: 0.3186 - root_mean_squared_error: 0.17 - ETA: 19s - loss: 0.3180 - root_mean_squared_error: 0.17 - ETA: 9s - loss: 0.3175 - root_mean_squared_error: 0.1791 - ETA: 0s - loss: 0.3165 - root_mean_squared_error: 0.178 - 176s 322ms/step - loss: 0.3163 - root_mean_squared_error: 0.1756 - val_loss: 0.3048 - val_root_mean_squared_error: 0.1653\n",
      "Epoch 7/30\n",
      "546/546 [==============================] - ETA: 2:19 - loss: 0.2965 - root_mean_squared_error: 0.168 - ETA: 2:12 - loss: 0.3035 - root_mean_squared_error: 0.170 - ETA: 2:03 - loss: 0.3063 - root_mean_squared_error: 0.174 - ETA: 1:55 - loss: 0.3040 - root_mean_squared_error: 0.172 - ETA: 1:47 - loss: 0.3036 - root_mean_squared_error: 0.171 - ETA: 1:38 - loss: 0.3039 - root_mean_squared_error: 0.170 - ETA: 1:29 - loss: 0.3066 - root_mean_squared_error: 0.171 - ETA: 1:20 - loss: 0.3062 - root_mean_squared_error: 0.171 - ETA: 1:11 - loss: 0.3084 - root_mean_squared_error: 0.173 - ETA: 1:02 - loss: 0.3104 - root_mean_squared_error: 0.174 - ETA: 53s - loss: 0.3107 - root_mean_squared_error: 0.174 - ETA: 44s - loss: 0.3113 - root_mean_squared_error: 0.17 - ETA: 36s - loss: 0.3126 - root_mean_squared_error: 0.17 - ETA: 27s - loss: 0.3131 - root_mean_squared_error: 0.17 - ETA: 18s - loss: 0.3135 - root_mean_squared_error: 0.17 - ETA: 9s - loss: 0.3134 - root_mean_squared_error: 0.1761 - ETA: 0s - loss: 0.3141 - root_mean_squared_error: 0.176 - 168s 307ms/step - loss: 0.3141 - root_mean_squared_error: 0.1778 - val_loss: 0.3063 - val_root_mean_squared_error: 0.1660\n",
      "Epoch 8/30\n",
      "546/546 [==============================] - ETA: 2:24 - loss: 0.3293 - root_mean_squared_error: 0.191 - ETA: 2:14 - loss: 0.3140 - root_mean_squared_error: 0.185 - ETA: 2:04 - loss: 0.3144 - root_mean_squared_error: 0.184 - ETA: 1:57 - loss: 0.3136 - root_mean_squared_error: 0.180 - ETA: 1:47 - loss: 0.3154 - root_mean_squared_error: 0.179 - ETA: 1:38 - loss: 0.3138 - root_mean_squared_error: 0.176 - ETA: 1:29 - loss: 0.3165 - root_mean_squared_error: 0.176 - ETA: 1:21 - loss: 0.3165 - root_mean_squared_error: 0.176 - ETA: 1:12 - loss: 0.3180 - root_mean_squared_error: 0.178 - ETA: 1:03 - loss: 0.3165 - root_mean_squared_error: 0.177 - ETA: 54s - loss: 0.3168 - root_mean_squared_error: 0.177 - ETA: 45s - loss: 0.3168 - root_mean_squared_error: 0.17 - ETA: 36s - loss: 0.3156 - root_mean_squared_error: 0.17 - ETA: 27s - loss: 0.3136 - root_mean_squared_error: 0.17 - ETA: 18s - loss: 0.3147 - root_mean_squared_error: 0.17 - ETA: 9s - loss: 0.3139 - root_mean_squared_error: 0.1763 - ETA: 0s - loss: 0.3137 - root_mean_squared_error: 0.175 - 169s 310ms/step - loss: 0.3136 - root_mean_squared_error: 0.1756 - val_loss: 0.3059 - val_root_mean_squared_error: 0.1659\n",
      "Epoch 9/30\n",
      "546/546 [==============================] - ETA: 2:20 - loss: 0.3189 - root_mean_squared_error: 0.187 - ETA: 2:12 - loss: 0.3055 - root_mean_squared_error: 0.182 - ETA: 2:03 - loss: 0.3072 - root_mean_squared_error: 0.180 - ETA: 1:54 - loss: 0.3089 - root_mean_squared_error: 0.180 - ETA: 1:45 - loss: 0.3064 - root_mean_squared_error: 0.176 - ETA: 1:37 - loss: 0.3123 - root_mean_squared_error: 0.177 - ETA: 1:28 - loss: 0.3150 - root_mean_squared_error: 0.178 - ETA: 1:19 - loss: 0.3147 - root_mean_squared_error: 0.177 - ETA: 1:11 - loss: 0.3150 - root_mean_squared_error: 0.177 - ETA: 1:02 - loss: 0.3126 - root_mean_squared_error: 0.176 - ETA: 53s - loss: 0.3122 - root_mean_squared_error: 0.176 - ETA: 44s - loss: 0.3121 - root_mean_squared_error: 0.17 - ETA: 35s - loss: 0.3128 - root_mean_squared_error: 0.17 - ETA: 27s - loss: 0.3125 - root_mean_squared_error: 0.17 - ETA: 18s - loss: 0.3133 - root_mean_squared_error: 0.17 - ETA: 9s - loss: 0.3125 - root_mean_squared_error: 0.1759 - ETA: 0s - loss: 0.3130 - root_mean_squared_error: 0.175 - 169s 309ms/step - loss: 0.3130 - root_mean_squared_error: 0.1752 - val_loss: 0.3067 - val_root_mean_squared_error: 0.1664\n",
      "Epoch 10/30\n",
      "546/546 [==============================] - ETA: 2:18 - loss: 0.3039 - root_mean_squared_error: 0.172 - ETA: 2:10 - loss: 0.3046 - root_mean_squared_error: 0.169 - ETA: 2:04 - loss: 0.3079 - root_mean_squared_error: 0.176 - ETA: 1:55 - loss: 0.3097 - root_mean_squared_error: 0.175 - ETA: 1:46 - loss: 0.3109 - root_mean_squared_error: 0.174 - ETA: 1:38 - loss: 0.3105 - root_mean_squared_error: 0.173 - ETA: 1:29 - loss: 0.3089 - root_mean_squared_error: 0.173 - ETA: 1:21 - loss: 0.3130 - root_mean_squared_error: 0.175 - ETA: 1:11 - loss: 0.3114 - root_mean_squared_error: 0.173 - ETA: 1:02 - loss: 0.3121 - root_mean_squared_error: 0.173 - ETA: 54s - loss: 0.3114 - root_mean_squared_error: 0.174 - ETA: 45s - loss: 0.3109 - root_mean_squared_error: 0.17 - ETA: 36s - loss: 0.3100 - root_mean_squared_error: 0.17 - ETA: 27s - loss: 0.3090 - root_mean_squared_error: 0.17 - ETA: 18s - loss: 0.3086 - root_mean_squared_error: 0.17 - ETA: 9s - loss: 0.3090 - root_mean_squared_error: 0.1720 - ETA: 0s - loss: 0.3097 - root_mean_squared_error: 0.172 - 168s 307ms/step - loss: 0.3098 - root_mean_squared_error: 0.1755 - val_loss: 0.3047 - val_root_mean_squared_error: 0.1652\n",
      "Epoch 11/30\n",
      "546/546 [==============================] - ETA: 2:23 - loss: 0.3263 - root_mean_squared_error: 0.179 - ETA: 2:12 - loss: 0.3258 - root_mean_squared_error: 0.183 - ETA: 2:02 - loss: 0.3210 - root_mean_squared_error: 0.180 - ETA: 1:56 - loss: 0.3202 - root_mean_squared_error: 0.180 - ETA: 1:50 - loss: 0.3190 - root_mean_squared_error: 0.179 - ETA: 1:42 - loss: 0.3155 - root_mean_squared_error: 0.178 - ETA: 1:34 - loss: 0.3111 - root_mean_squared_error: 0.175 - ETA: 1:26 - loss: 0.3090 - root_mean_squared_error: 0.174 - ETA: 1:17 - loss: 0.3056 - root_mean_squared_error: 0.172 - ETA: 1:08 - loss: 0.3070 - root_mean_squared_error: 0.173 - ETA: 58s - loss: 0.3056 - root_mean_squared_error: 0.172 - ETA: 48s - loss: 0.3066 - root_mean_squared_error: 0.17 - ETA: 39s - loss: 0.3078 - root_mean_squared_error: 0.17 - ETA: 29s - loss: 0.3088 - root_mean_squared_error: 0.17 - ETA: 19s - loss: 0.3088 - root_mean_squared_error: 0.17 - ETA: 10s - loss: 0.3105 - root_mean_squared_error: 0.17 - ETA: 0s - loss: 0.3106 - root_mean_squared_error: 0.1730 - 181s 331ms/step - loss: 0.3108 - root_mean_squared_error: 0.1722 - val_loss: 0.3099 - val_root_mean_squared_error: 0.1681\n",
      "Epoch 12/30\n",
      "546/546 [==============================] - ETA: 2:27 - loss: 0.3133 - root_mean_squared_error: 0.172 - ETA: 2:19 - loss: 0.3147 - root_mean_squared_error: 0.174 - ETA: 2:12 - loss: 0.3115 - root_mean_squared_error: 0.174 - ETA: 2:11 - loss: 0.3115 - root_mean_squared_error: 0.175 - ETA: 2:06 - loss: 0.3134 - root_mean_squared_error: 0.172 - ETA: 2:00 - loss: 0.3108 - root_mean_squared_error: 0.172 - ETA: 1:50 - loss: 0.3116 - root_mean_squared_error: 0.170 - ETA: 1:40 - loss: 0.3119 - root_mean_squared_error: 0.171 - ETA: 1:30 - loss: 0.3118 - root_mean_squared_error: 0.170 - ETA: 1:19 - loss: 0.3104 - root_mean_squared_error: 0.170 - ETA: 1:08 - loss: 0.3100 - root_mean_squared_error: 0.171 - ETA: 57s - loss: 0.3089 - root_mean_squared_error: 0.172 - ETA: 46s - loss: 0.3080 - root_mean_squared_error: 0.17 - ETA: 35s - loss: 0.3086 - root_mean_squared_error: 0.17 - ETA: 23s - loss: 0.3098 - root_mean_squared_error: 0.17 - ETA: 12s - loss: 0.3099 - root_mean_squared_error: 0.17 - ETA: 0s - loss: 0.3099 - root_mean_squared_error: 0.1729 - 210s 384ms/step - loss: 0.3099 - root_mean_squared_error: 0.1719 - val_loss: 0.3051 - val_root_mean_squared_error: 0.1655\n",
      "Epoch 13/30\n",
      "546/546 [==============================] - ETA: 2:22 - loss: 0.3241 - root_mean_squared_error: 0.171 - ETA: 2:24 - loss: 0.3232 - root_mean_squared_error: 0.172 - ETA: 2:15 - loss: 0.3207 - root_mean_squared_error: 0.174 - ETA: 2:05 - loss: 0.3144 - root_mean_squared_error: 0.173 - ETA: 1:54 - loss: 0.3106 - root_mean_squared_error: 0.171 - ETA: 1:47 - loss: 0.3092 - root_mean_squared_error: 0.173 - ETA: 1:38 - loss: 0.3109 - root_mean_squared_error: 0.175 - ETA: 1:27 - loss: 0.3112 - root_mean_squared_error: 0.173 - ETA: 1:17 - loss: 0.3115 - root_mean_squared_error: 0.173 - ETA: 1:07 - loss: 0.3106 - root_mean_squared_error: 0.173 - ETA: 58s - loss: 0.3098 - root_mean_squared_error: 0.173 - ETA: 48s - loss: 0.3090 - root_mean_squared_error: 0.17 - ETA: 38s - loss: 0.3088 - root_mean_squared_error: 0.17 - ETA: 29s - loss: 0.3074 - root_mean_squared_error: 0.17 - ETA: 19s - loss: 0.3076 - root_mean_squared_error: 0.17 - ETA: 10s - loss: 0.3078 - root_mean_squared_error: 0.17 - ETA: 0s - loss: 0.3080 - root_mean_squared_error: 0.1718 - 177s 325ms/step - loss: 0.3082 - root_mean_squared_error: 0.1721 - val_loss: 0.3065 - val_root_mean_squared_error: 0.1663\n",
      "Epoch 14/30\n",
      "546/546 [==============================] - ETA: 2:21 - loss: 0.3285 - root_mean_squared_error: 0.172 - ETA: 2:16 - loss: 0.3312 - root_mean_squared_error: 0.181 - ETA: 2:06 - loss: 0.3249 - root_mean_squared_error: 0.181 - ETA: 1:56 - loss: 0.3177 - root_mean_squared_error: 0.178 - ETA: 1:47 - loss: 0.3156 - root_mean_squared_error: 0.174 - ETA: 1:38 - loss: 0.3125 - root_mean_squared_error: 0.173 - ETA: 1:29 - loss: 0.3084 - root_mean_squared_error: 0.171 - ETA: 1:20 - loss: 0.3075 - root_mean_squared_error: 0.169 - ETA: 1:11 - loss: 0.3060 - root_mean_squared_error: 0.170 - ETA: 1:02 - loss: 0.3080 - root_mean_squared_error: 0.170 - ETA: 53s - loss: 0.3111 - root_mean_squared_error: 0.172 - ETA: 45s - loss: 0.3107 - root_mean_squared_error: 0.17 - ETA: 36s - loss: 0.3098 - root_mean_squared_error: 0.17 - ETA: 27s - loss: 0.3082 - root_mean_squared_error: 0.17 - ETA: 18s - loss: 0.3074 - root_mean_squared_error: 0.17 - ETA: 9s - loss: 0.3083 - root_mean_squared_error: 0.1713 - ETA: 0s - loss: 0.3086 - root_mean_squared_error: 0.171 - 168s 308ms/step - loss: 0.3086 - root_mean_squared_error: 0.1711 - val_loss: 0.3052 - val_root_mean_squared_error: 0.1657\n",
      "Epoch 15/30\n",
      "546/546 [==============================] - ETA: 2:15 - loss: 0.3076 - root_mean_squared_error: 0.167 - ETA: 2:10 - loss: 0.3066 - root_mean_squared_error: 0.168 - ETA: 2:03 - loss: 0.3055 - root_mean_squared_error: 0.170 - ETA: 1:54 - loss: 0.3033 - root_mean_squared_error: 0.166 - ETA: 1:45 - loss: 0.3026 - root_mean_squared_error: 0.166 - ETA: 1:37 - loss: 0.3029 - root_mean_squared_error: 0.165 - ETA: 1:28 - loss: 0.3036 - root_mean_squared_error: 0.167 - ETA: 1:19 - loss: 0.3059 - root_mean_squared_error: 0.169 - ETA: 1:10 - loss: 0.3060 - root_mean_squared_error: 0.168 - ETA: 1:02 - loss: 0.3062 - root_mean_squared_error: 0.168 - ETA: 53s - loss: 0.3053 - root_mean_squared_error: 0.169 - ETA: 44s - loss: 0.3070 - root_mean_squared_error: 0.17 - ETA: 35s - loss: 0.3072 - root_mean_squared_error: 0.17 - ETA: 27s - loss: 0.3068 - root_mean_squared_error: 0.17 - ETA: 18s - loss: 0.3055 - root_mean_squared_error: 0.17 - ETA: 9s - loss: 0.3065 - root_mean_squared_error: 0.1709 - ETA: 0s - loss: 0.3067 - root_mean_squared_error: 0.170 - 168s 307ms/step - loss: 0.3065 - root_mean_squared_error: 0.1692 - val_loss: 0.3050 - val_root_mean_squared_error: 0.1654\n",
      "Epoch 16/30\n",
      "546/546 [==============================] - ETA: 2:18 - loss: 0.3058 - root_mean_squared_error: 0.170 - ETA: 2:11 - loss: 0.3071 - root_mean_squared_error: 0.174 - ETA: 2:03 - loss: 0.3103 - root_mean_squared_error: 0.173 - ETA: 1:54 - loss: 0.3076 - root_mean_squared_error: 0.171 - ETA: 1:45 - loss: 0.3043 - root_mean_squared_error: 0.169 - ETA: 1:37 - loss: 0.3054 - root_mean_squared_error: 0.172 - ETA: 1:28 - loss: 0.3059 - root_mean_squared_error: 0.172 - ETA: 1:19 - loss: 0.3071 - root_mean_squared_error: 0.172 - ETA: 1:10 - loss: 0.3072 - root_mean_squared_error: 0.171 - ETA: 1:02 - loss: 0.3071 - root_mean_squared_error: 0.171 - ETA: 53s - loss: 0.3067 - root_mean_squared_error: 0.170 - ETA: 44s - loss: 0.3049 - root_mean_squared_error: 0.16 - ETA: 35s - loss: 0.3057 - root_mean_squared_error: 0.17 - ETA: 27s - loss: 0.3063 - root_mean_squared_error: 0.17 - ETA: 18s - loss: 0.3060 - root_mean_squared_error: 0.17 - ETA: 9s - loss: 0.3070 - root_mean_squared_error: 0.1711 - ETA: 0s - loss: 0.3074 - root_mean_squared_error: 0.170 - 167s 306ms/step - loss: 0.3075 - root_mean_squared_error: 0.1722 - val_loss: 0.3050 - val_root_mean_squared_error: 0.1655\n",
      "Epoch 17/30\n",
      "546/546 [==============================] - ETA: 2:26 - loss: 0.3166 - root_mean_squared_error: 0.169 - ETA: 2:19 - loss: 0.3101 - root_mean_squared_error: 0.169 - ETA: 2:12 - loss: 0.3133 - root_mean_squared_error: 0.175 - ETA: 2:01 - loss: 0.3172 - root_mean_squared_error: 0.178 - ETA: 1:51 - loss: 0.3169 - root_mean_squared_error: 0.176 - ETA: 1:41 - loss: 0.3131 - root_mean_squared_error: 0.173 - ETA: 1:31 - loss: 0.3092 - root_mean_squared_error: 0.171 - ETA: 1:21 - loss: 0.3089 - root_mean_squared_error: 0.171 - ETA: 1:12 - loss: 0.3056 - root_mean_squared_error: 0.170 - ETA: 1:03 - loss: 0.3077 - root_mean_squared_error: 0.170 - ETA: 54s - loss: 0.3081 - root_mean_squared_error: 0.170 - ETA: 45s - loss: 0.3063 - root_mean_squared_error: 0.17 - ETA: 36s - loss: 0.3035 - root_mean_squared_error: 0.16 - ETA: 27s - loss: 0.3040 - root_mean_squared_error: 0.16 - ETA: 18s - loss: 0.3047 - root_mean_squared_error: 0.16 - ETA: 9s - loss: 0.3052 - root_mean_squared_error: 0.1683 - ETA: 0s - loss: 0.3060 - root_mean_squared_error: 0.169 - 169s 309ms/step - loss: 0.3063 - root_mean_squared_error: 0.1716 - val_loss: 0.3063 - val_root_mean_squared_error: 0.1663\n",
      "Epoch 18/30\n",
      "546/546 [==============================] - ETA: 2:17 - loss: 0.3250 - root_mean_squared_error: 0.190 - ETA: 2:08 - loss: 0.3117 - root_mean_squared_error: 0.177 - ETA: 2:00 - loss: 0.3115 - root_mean_squared_error: 0.175 - ETA: 1:52 - loss: 0.3125 - root_mean_squared_error: 0.174 - ETA: 1:43 - loss: 0.3122 - root_mean_squared_error: 0.173 - ETA: 1:35 - loss: 0.3101 - root_mean_squared_error: 0.170 - ETA: 1:27 - loss: 0.3094 - root_mean_squared_error: 0.171 - ETA: 1:18 - loss: 0.3089 - root_mean_squared_error: 0.171 - ETA: 1:10 - loss: 0.3066 - root_mean_squared_error: 0.171 - ETA: 1:01 - loss: 0.3047 - root_mean_squared_error: 0.170 - ETA: 53s - loss: 0.3050 - root_mean_squared_error: 0.170 - ETA: 44s - loss: 0.3044 - root_mean_squared_error: 0.16 - ETA: 35s - loss: 0.3054 - root_mean_squared_error: 0.17 - ETA: 26s - loss: 0.3060 - root_mean_squared_error: 0.17 - ETA: 18s - loss: 0.3062 - root_mean_squared_error: 0.17 - ETA: 9s - loss: 0.3062 - root_mean_squared_error: 0.1701 - ETA: 0s - loss: 0.3064 - root_mean_squared_error: 0.169 - 166s 304ms/step - loss: 0.3064 - root_mean_squared_error: 0.1682 - val_loss: 0.3074 - val_root_mean_squared_error: 0.1669\n",
      "Epoch 19/30\n",
      "480/546 [=========================>....] - ETA: 2:25 - loss: 0.3241 - root_mean_squared_error: 0.178 - ETA: 2:14 - loss: 0.3162 - root_mean_squared_error: 0.178 - ETA: 2:05 - loss: 0.3171 - root_mean_squared_error: 0.174 - ETA: 1:56 - loss: 0.3105 - root_mean_squared_error: 0.171 - ETA: 1:47 - loss: 0.3049 - root_mean_squared_error: 0.168 - ETA: 1:38 - loss: 0.3051 - root_mean_squared_error: 0.168 - ETA: 1:29 - loss: 0.3061 - root_mean_squared_error: 0.169 - ETA: 1:20 - loss: 0.3073 - root_mean_squared_error: 0.170 - ETA: 1:11 - loss: 0.3061 - root_mean_squared_error: 0.169 - ETA: 1:02 - loss: 0.3040 - root_mean_squared_error: 0.167 - ETA: 53s - loss: 0.3036 - root_mean_squared_error: 0.167 - ETA: 44s - loss: 0.3022 - root_mean_squared_error: 0.16 - ETA: 36s - loss: 0.3024 - root_mean_squared_error: 0.16 - ETA: 27s - loss: 0.3050 - root_mean_squared_error: 0.16 - ETA: 18s - loss: 0.3046 - root_mean_squared_error: 0.1684"
     ]
    },
    {
     "ename": "KeyboardInterrupt",
     "evalue": "",
     "output_type": "error",
     "traceback": [
      "\u001b[1;31m---------------------------------------------------------------------------\u001b[0m",
      "\u001b[1;31mKeyboardInterrupt\u001b[0m                         Traceback (most recent call last)",
      "\u001b[1;32m<ipython-input-11-dd725dfd04c3>\u001b[0m in \u001b[0;36m<module>\u001b[1;34m\u001b[0m\n\u001b[0;32m      1\u001b[0m \u001b[0mbatch_size\u001b[0m \u001b[1;33m=\u001b[0m \u001b[1;36m128\u001b[0m\u001b[1;33m\u001b[0m\u001b[1;33m\u001b[0m\u001b[0m\n\u001b[1;32m----> 2\u001b[1;33m \u001b[0mmodel\u001b[0m\u001b[1;33m.\u001b[0m\u001b[0mfit\u001b[0m\u001b[1;33m(\u001b[0m\u001b[0mX_train\u001b[0m\u001b[1;33m,\u001b[0m \u001b[0my_train\u001b[0m\u001b[1;33m,\u001b[0m \u001b[0mepochs\u001b[0m\u001b[1;33m=\u001b[0m\u001b[1;36m30\u001b[0m\u001b[1;33m,\u001b[0m \u001b[0mvalidation_data\u001b[0m\u001b[1;33m=\u001b[0m\u001b[1;33m(\u001b[0m\u001b[0mX_test\u001b[0m\u001b[1;33m,\u001b[0m \u001b[0my_test\u001b[0m\u001b[1;33m)\u001b[0m\u001b[1;33m)\u001b[0m\u001b[1;33m\u001b[0m\u001b[1;33m\u001b[0m\u001b[0m\n\u001b[0m",
      "\u001b[1;32m~\\Anaconda3\\lib\\site-packages\\keras\\engine\\training.py\u001b[0m in \u001b[0;36mfit\u001b[1;34m(self, x, y, batch_size, epochs, verbose, callbacks, validation_split, validation_data, shuffle, class_weight, sample_weight, initial_epoch, steps_per_epoch, validation_steps, validation_freq, max_queue_size, workers, use_multiprocessing, **kwargs)\u001b[0m\n\u001b[0;32m   1237\u001b[0m                                         \u001b[0msteps_per_epoch\u001b[0m\u001b[1;33m=\u001b[0m\u001b[0msteps_per_epoch\u001b[0m\u001b[1;33m,\u001b[0m\u001b[1;33m\u001b[0m\u001b[1;33m\u001b[0m\u001b[0m\n\u001b[0;32m   1238\u001b[0m                                         \u001b[0mvalidation_steps\u001b[0m\u001b[1;33m=\u001b[0m\u001b[0mvalidation_steps\u001b[0m\u001b[1;33m,\u001b[0m\u001b[1;33m\u001b[0m\u001b[1;33m\u001b[0m\u001b[0m\n\u001b[1;32m-> 1239\u001b[1;33m                                         validation_freq=validation_freq)\n\u001b[0m\u001b[0;32m   1240\u001b[0m \u001b[1;33m\u001b[0m\u001b[0m\n\u001b[0;32m   1241\u001b[0m     def evaluate(self,\n",
      "\u001b[1;32m~\\Anaconda3\\lib\\site-packages\\keras\\engine\\training_arrays.py\u001b[0m in \u001b[0;36mfit_loop\u001b[1;34m(model, fit_function, fit_inputs, out_labels, batch_size, epochs, verbose, callbacks, val_function, val_inputs, shuffle, initial_epoch, steps_per_epoch, validation_steps, validation_freq)\u001b[0m\n\u001b[0;32m    194\u001b[0m                     \u001b[0mins_batch\u001b[0m\u001b[1;33m[\u001b[0m\u001b[0mi\u001b[0m\u001b[1;33m]\u001b[0m \u001b[1;33m=\u001b[0m \u001b[0mins_batch\u001b[0m\u001b[1;33m[\u001b[0m\u001b[0mi\u001b[0m\u001b[1;33m]\u001b[0m\u001b[1;33m.\u001b[0m\u001b[0mtoarray\u001b[0m\u001b[1;33m(\u001b[0m\u001b[1;33m)\u001b[0m\u001b[1;33m\u001b[0m\u001b[1;33m\u001b[0m\u001b[0m\n\u001b[0;32m    195\u001b[0m \u001b[1;33m\u001b[0m\u001b[0m\n\u001b[1;32m--> 196\u001b[1;33m                 \u001b[0mouts\u001b[0m \u001b[1;33m=\u001b[0m \u001b[0mfit_function\u001b[0m\u001b[1;33m(\u001b[0m\u001b[0mins_batch\u001b[0m\u001b[1;33m)\u001b[0m\u001b[1;33m\u001b[0m\u001b[1;33m\u001b[0m\u001b[0m\n\u001b[0m\u001b[0;32m    197\u001b[0m                 \u001b[0mouts\u001b[0m \u001b[1;33m=\u001b[0m \u001b[0mto_list\u001b[0m\u001b[1;33m(\u001b[0m\u001b[0mouts\u001b[0m\u001b[1;33m)\u001b[0m\u001b[1;33m\u001b[0m\u001b[1;33m\u001b[0m\u001b[0m\n\u001b[0;32m    198\u001b[0m                 \u001b[1;32mfor\u001b[0m \u001b[0ml\u001b[0m\u001b[1;33m,\u001b[0m \u001b[0mo\u001b[0m \u001b[1;32min\u001b[0m \u001b[0mzip\u001b[0m\u001b[1;33m(\u001b[0m\u001b[0mout_labels\u001b[0m\u001b[1;33m,\u001b[0m \u001b[0mouts\u001b[0m\u001b[1;33m)\u001b[0m\u001b[1;33m:\u001b[0m\u001b[1;33m\u001b[0m\u001b[1;33m\u001b[0m\u001b[0m\n",
      "\u001b[1;32m~\\Anaconda3\\lib\\site-packages\\tensorflow_core\\python\\keras\\backend.py\u001b[0m in \u001b[0;36m__call__\u001b[1;34m(self, inputs)\u001b[0m\n\u001b[0;32m   3725\u001b[0m         \u001b[0mvalue\u001b[0m \u001b[1;33m=\u001b[0m \u001b[0mmath_ops\u001b[0m\u001b[1;33m.\u001b[0m\u001b[0mcast\u001b[0m\u001b[1;33m(\u001b[0m\u001b[0mvalue\u001b[0m\u001b[1;33m,\u001b[0m \u001b[0mtensor\u001b[0m\u001b[1;33m.\u001b[0m\u001b[0mdtype\u001b[0m\u001b[1;33m)\u001b[0m\u001b[1;33m\u001b[0m\u001b[1;33m\u001b[0m\u001b[0m\n\u001b[0;32m   3726\u001b[0m       \u001b[0mconverted_inputs\u001b[0m\u001b[1;33m.\u001b[0m\u001b[0mappend\u001b[0m\u001b[1;33m(\u001b[0m\u001b[0mvalue\u001b[0m\u001b[1;33m)\u001b[0m\u001b[1;33m\u001b[0m\u001b[1;33m\u001b[0m\u001b[0m\n\u001b[1;32m-> 3727\u001b[1;33m     \u001b[0moutputs\u001b[0m \u001b[1;33m=\u001b[0m \u001b[0mself\u001b[0m\u001b[1;33m.\u001b[0m\u001b[0m_graph_fn\u001b[0m\u001b[1;33m(\u001b[0m\u001b[1;33m*\u001b[0m\u001b[0mconverted_inputs\u001b[0m\u001b[1;33m)\u001b[0m\u001b[1;33m\u001b[0m\u001b[1;33m\u001b[0m\u001b[0m\n\u001b[0m\u001b[0;32m   3728\u001b[0m \u001b[1;33m\u001b[0m\u001b[0m\n\u001b[0;32m   3729\u001b[0m     \u001b[1;31m# EagerTensor.numpy() will often make a copy to ensure memory safety.\u001b[0m\u001b[1;33m\u001b[0m\u001b[1;33m\u001b[0m\u001b[1;33m\u001b[0m\u001b[0m\n",
      "\u001b[1;32m~\\Anaconda3\\lib\\site-packages\\tensorflow_core\\python\\eager\\function.py\u001b[0m in \u001b[0;36m__call__\u001b[1;34m(self, *args, **kwargs)\u001b[0m\n\u001b[0;32m   1549\u001b[0m       \u001b[0mTypeError\u001b[0m\u001b[1;33m:\u001b[0m \u001b[0mFor\u001b[0m \u001b[0minvalid\u001b[0m \u001b[0mpositional\u001b[0m\u001b[1;33m/\u001b[0m\u001b[0mkeyword\u001b[0m \u001b[0margument\u001b[0m \u001b[0mcombinations\u001b[0m\u001b[1;33m.\u001b[0m\u001b[1;33m\u001b[0m\u001b[1;33m\u001b[0m\u001b[0m\n\u001b[0;32m   1550\u001b[0m     \"\"\"\n\u001b[1;32m-> 1551\u001b[1;33m     \u001b[1;32mreturn\u001b[0m \u001b[0mself\u001b[0m\u001b[1;33m.\u001b[0m\u001b[0m_call_impl\u001b[0m\u001b[1;33m(\u001b[0m\u001b[0margs\u001b[0m\u001b[1;33m,\u001b[0m \u001b[0mkwargs\u001b[0m\u001b[1;33m)\u001b[0m\u001b[1;33m\u001b[0m\u001b[1;33m\u001b[0m\u001b[0m\n\u001b[0m\u001b[0;32m   1552\u001b[0m \u001b[1;33m\u001b[0m\u001b[0m\n\u001b[0;32m   1553\u001b[0m   \u001b[1;32mdef\u001b[0m \u001b[0m_call_impl\u001b[0m\u001b[1;33m(\u001b[0m\u001b[0mself\u001b[0m\u001b[1;33m,\u001b[0m \u001b[0margs\u001b[0m\u001b[1;33m,\u001b[0m \u001b[0mkwargs\u001b[0m\u001b[1;33m,\u001b[0m \u001b[0mcancellation_manager\u001b[0m\u001b[1;33m=\u001b[0m\u001b[1;32mNone\u001b[0m\u001b[1;33m)\u001b[0m\u001b[1;33m:\u001b[0m\u001b[1;33m\u001b[0m\u001b[1;33m\u001b[0m\u001b[0m\n",
      "\u001b[1;32m~\\Anaconda3\\lib\\site-packages\\tensorflow_core\\python\\eager\\function.py\u001b[0m in \u001b[0;36m_call_impl\u001b[1;34m(self, args, kwargs, cancellation_manager)\u001b[0m\n\u001b[0;32m   1589\u001b[0m       raise TypeError(\"Keyword arguments {} unknown. Expected {}.\".format(\n\u001b[0;32m   1590\u001b[0m           list(kwargs.keys()), list(self._arg_keywords)))\n\u001b[1;32m-> 1591\u001b[1;33m     \u001b[1;32mreturn\u001b[0m \u001b[0mself\u001b[0m\u001b[1;33m.\u001b[0m\u001b[0m_call_flat\u001b[0m\u001b[1;33m(\u001b[0m\u001b[0margs\u001b[0m\u001b[1;33m,\u001b[0m \u001b[0mself\u001b[0m\u001b[1;33m.\u001b[0m\u001b[0mcaptured_inputs\u001b[0m\u001b[1;33m,\u001b[0m \u001b[0mcancellation_manager\u001b[0m\u001b[1;33m)\u001b[0m\u001b[1;33m\u001b[0m\u001b[1;33m\u001b[0m\u001b[0m\n\u001b[0m\u001b[0;32m   1592\u001b[0m \u001b[1;33m\u001b[0m\u001b[0m\n\u001b[0;32m   1593\u001b[0m   \u001b[1;32mdef\u001b[0m \u001b[0m_filtered_call\u001b[0m\u001b[1;33m(\u001b[0m\u001b[0mself\u001b[0m\u001b[1;33m,\u001b[0m \u001b[0margs\u001b[0m\u001b[1;33m,\u001b[0m \u001b[0mkwargs\u001b[0m\u001b[1;33m)\u001b[0m\u001b[1;33m:\u001b[0m\u001b[1;33m\u001b[0m\u001b[1;33m\u001b[0m\u001b[0m\n",
      "\u001b[1;32m~\\Anaconda3\\lib\\site-packages\\tensorflow_core\\python\\eager\\function.py\u001b[0m in \u001b[0;36m_call_flat\u001b[1;34m(self, args, captured_inputs, cancellation_manager)\u001b[0m\n\u001b[0;32m   1690\u001b[0m       \u001b[1;31m# No tape is watching; skip to running the function.\u001b[0m\u001b[1;33m\u001b[0m\u001b[1;33m\u001b[0m\u001b[1;33m\u001b[0m\u001b[0m\n\u001b[0;32m   1691\u001b[0m       return self._build_call_outputs(self._inference_function.call(\n\u001b[1;32m-> 1692\u001b[1;33m           ctx, args, cancellation_manager=cancellation_manager))\n\u001b[0m\u001b[0;32m   1693\u001b[0m     forward_backward = self._select_forward_and_backward_functions(\n\u001b[0;32m   1694\u001b[0m         \u001b[0margs\u001b[0m\u001b[1;33m,\u001b[0m\u001b[1;33m\u001b[0m\u001b[1;33m\u001b[0m\u001b[0m\n",
      "\u001b[1;32m~\\Anaconda3\\lib\\site-packages\\tensorflow_core\\python\\eager\\function.py\u001b[0m in \u001b[0;36mcall\u001b[1;34m(self, ctx, args, cancellation_manager)\u001b[0m\n\u001b[0;32m    543\u001b[0m               \u001b[0minputs\u001b[0m\u001b[1;33m=\u001b[0m\u001b[0margs\u001b[0m\u001b[1;33m,\u001b[0m\u001b[1;33m\u001b[0m\u001b[1;33m\u001b[0m\u001b[0m\n\u001b[0;32m    544\u001b[0m               \u001b[0mattrs\u001b[0m\u001b[1;33m=\u001b[0m\u001b[1;33m(\u001b[0m\u001b[1;34m\"executor_type\"\u001b[0m\u001b[1;33m,\u001b[0m \u001b[0mexecutor_type\u001b[0m\u001b[1;33m,\u001b[0m \u001b[1;34m\"config_proto\"\u001b[0m\u001b[1;33m,\u001b[0m \u001b[0mconfig\u001b[0m\u001b[1;33m)\u001b[0m\u001b[1;33m,\u001b[0m\u001b[1;33m\u001b[0m\u001b[1;33m\u001b[0m\u001b[0m\n\u001b[1;32m--> 545\u001b[1;33m               ctx=ctx)\n\u001b[0m\u001b[0;32m    546\u001b[0m         \u001b[1;32melse\u001b[0m\u001b[1;33m:\u001b[0m\u001b[1;33m\u001b[0m\u001b[1;33m\u001b[0m\u001b[0m\n\u001b[0;32m    547\u001b[0m           outputs = execute.execute_with_cancellation(\n",
      "\u001b[1;32m~\\Anaconda3\\lib\\site-packages\\tensorflow_core\\python\\eager\\execute.py\u001b[0m in \u001b[0;36mquick_execute\u001b[1;34m(op_name, num_outputs, inputs, attrs, ctx, name)\u001b[0m\n\u001b[0;32m     59\u001b[0m     tensors = pywrap_tensorflow.TFE_Py_Execute(ctx._handle, device_name,\n\u001b[0;32m     60\u001b[0m                                                \u001b[0mop_name\u001b[0m\u001b[1;33m,\u001b[0m \u001b[0minputs\u001b[0m\u001b[1;33m,\u001b[0m \u001b[0mattrs\u001b[0m\u001b[1;33m,\u001b[0m\u001b[1;33m\u001b[0m\u001b[1;33m\u001b[0m\u001b[0m\n\u001b[1;32m---> 61\u001b[1;33m                                                num_outputs)\n\u001b[0m\u001b[0;32m     62\u001b[0m   \u001b[1;32mexcept\u001b[0m \u001b[0mcore\u001b[0m\u001b[1;33m.\u001b[0m\u001b[0m_NotOkStatusException\u001b[0m \u001b[1;32mas\u001b[0m \u001b[0me\u001b[0m\u001b[1;33m:\u001b[0m\u001b[1;33m\u001b[0m\u001b[1;33m\u001b[0m\u001b[0m\n\u001b[0;32m     63\u001b[0m     \u001b[1;32mif\u001b[0m \u001b[0mname\u001b[0m \u001b[1;32mis\u001b[0m \u001b[1;32mnot\u001b[0m \u001b[1;32mNone\u001b[0m\u001b[1;33m:\u001b[0m\u001b[1;33m\u001b[0m\u001b[1;33m\u001b[0m\u001b[0m\n",
      "\u001b[1;31mKeyboardInterrupt\u001b[0m: "
     ]
    }
   ],
   "source": [
    "batch_size = 128\n",
    "model.fit(X_train, y_train, epochs=30, validation_data=(X_test, y_test))"
   ]
  },
  {
   "cell_type": "code",
   "execution_count": null,
   "metadata": {},
   "outputs": [],
   "source": []
  }
 ],
 "metadata": {
  "kernelspec": {
   "display_name": "Python 3",
   "language": "python",
   "name": "python3"
  },
  "language_info": {
   "codemirror_mode": {
    "name": "ipython",
    "version": 3
   },
   "file_extension": ".py",
   "mimetype": "text/x-python",
   "name": "python",
   "nbconvert_exporter": "python",
   "pygments_lexer": "ipython3",
   "version": "3.7.4"
  }
 },
 "nbformat": 4,
 "nbformat_minor": 4
}
